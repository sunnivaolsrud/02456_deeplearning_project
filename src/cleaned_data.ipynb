{
 "cells": [
  {
   "cell_type": "code",
   "execution_count": 3,
   "metadata": {},
   "outputs": [],
   "source": [
    "import pandas as pd\n",
    "import numpy as np\n",
    "from nltk.corpus import stopwords\n",
    "\n",
    "data_path = 'data/twitter_data/'"
   ]
  },
  {
   "cell_type": "code",
   "execution_count": 7,
   "metadata": {},
   "outputs": [],
   "source": [
    "train, test, valid = pd.read_csv(data_path + 'tweet_train.csv', delimiter=','), pd.read_csv(data_path + 'tweet_test.csv', delimiter=','), pd.read_csv(data_path + 'tweet_val.csv', delimiter=',')"
   ]
  },
  {
   "cell_type": "code",
   "execution_count": 11,
   "metadata": {},
   "outputs": [],
   "source": [
    "def clean_data(DataFrame):\n",
    "    stop_words = stopwords.words('english')\n",
    "    stop_words.remove('not')\n",
    "    stop_words.remove('no') \n",
    "    # remove stop words\n",
    "    DataFrame['Tweet'] = DataFrame['Tweet'].apply(lambda x: ' '.join([word for word in x.split() if word not in (stop_words)]))\n",
    "    # remove punctuation\n",
    "    DataFrame['Tweet'] = DataFrame['Tweet'].str.replace('[^\\w\\s]','')\n",
    "    # remove numbers\n",
    "    DataFrame['Tweet'] = DataFrame['Tweet'].str.replace('\\d+', '')\n",
    "    # remove http links\n",
    "    DataFrame['Tweet'] = DataFrame['Tweet'].str.replace('http\\S+|www.\\S+', '', case=False)\n",
    "    \n",
    "    return DataFrame"
   ]
  },
  {
   "cell_type": "code",
   "execution_count": 12,
   "metadata": {},
   "outputs": [],
   "source": [
    "# clean train, test and validation data\n",
    "train = clean_data(train)\n",
    "# save cleaned data\n",
    "train.to_csv(data_path + 'cleaned_tweet_train.csv', index=False)\n",
    "\n",
    "test = clean_data(test)\n",
    "# save cleaned data\n",
    "test.to_csv(data_path + 'cleaned_tweet_test.csv', index=False)\n",
    "\n",
    "valid = clean_data(valid)\n",
    "# save cleaned data\n",
    "valid.to_csv(data_path + 'cleaned_tweet_val.csv', index=False)"
   ]
  }
 ],
 "metadata": {
  "kernelspec": {
   "display_name": "Python 3.10.6 ('uni_env')",
   "language": "python",
   "name": "python3"
  },
  "language_info": {
   "codemirror_mode": {
    "name": "ipython",
    "version": 3
   },
   "file_extension": ".py",
   "mimetype": "text/x-python",
   "name": "python",
   "nbconvert_exporter": "python",
   "pygments_lexer": "ipython3",
   "version": "3.10.6 | packaged by conda-forge | (main, Aug 22 2022, 20:41:22) [Clang 13.0.1 ]"
  },
  "orig_nbformat": 4,
  "vscode": {
   "interpreter": {
    "hash": "f7634c8171feac4458a13f394e6cfdd814bf66fc1aec0214c1deb01e1bca547b"
   }
  }
 },
 "nbformat": 4,
 "nbformat_minor": 2
}
