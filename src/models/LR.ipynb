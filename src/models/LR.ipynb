{
 "cells": [
  {
   "cell_type": "code",
   "execution_count": 1,
   "metadata": {},
   "outputs": [],
   "source": [
    "import pandas as pd\n",
    "import numpy as np\n",
    "import matplotlib.pyplot as plt\n",
    "import seaborn as sns\n",
    "from sklearn.feature_extraction.text import CountVectorizer\n",
    "from sklearn.linear_model import LogisticRegression\n",
    "from sklearn.feature_extraction.text import TfidfTransformer\n",
    "from sklearn.decomposition import TruncatedSVD\n",
    "from sklearn import metrics\n",
    "from sklearn.pipeline import Pipeline\n",
    "from scipy import stats\n",
    "from scipy.stats import pearsonr, spearmanr\n",
    "from sklearn.metrics import roc_auc_score, accuracy_score, roc_curve, mean_squared_error, r2_score\n",
    "from nltk.corpus import stopwords\n",
    "import joblib\n",
    "\n",
    "source_folder = '../data/twitter_data/'"
   ]
  },
  {
   "cell_type": "code",
   "execution_count": 2,
   "metadata": {},
   "outputs": [],
   "source": [
    "def clean_data(DataFrame):\n",
    "    stop_words = stopwords.words('english')\n",
    "    stop_words.remove('not')\n",
    "    stop_words.remove('no') \n",
    "    # remove stop words\n",
    "    DataFrame['tweet_text'] = DataFrame['tweet_text'].apply(lambda x: ' '.join([word for word in x.split() if word not in (stop_words)]))\n",
    "    # remove punctuation\n",
    "    DataFrame['tweet_text'] = DataFrame['tweet_text'].str.replace('[^\\w\\s]','')\n",
    "    # remove numbers\n",
    "    DataFrame['tweet_text'] = DataFrame['tweet_text'].str.replace('\\d+', '')\n",
    "    # remove http links\n",
    "    DataFrame['tweet_text'] = DataFrame['tweet_text'].str.replace('http\\S+|www.\\S+', '', case=False)\n",
    "    \n",
    "    return DataFrame"
   ]
  },
  {
   "cell_type": "code",
   "execution_count": 3,
   "metadata": {},
   "outputs": [],
   "source": [
    "train = pd.read_csv(source_folder+'/tweet_train.csv', sep=',')\n",
    "test = pd.read_csv(source_folder+'/tweet_test.csv', sep=',')\n",
    "new_data_test = pd.read_csv(source_folder+'/new_tweet_data_clean.csv', sep=',')\n",
    "#test = clean_data(test)\n",
    "# remove id column\n",
    "#test = test.drop(['id'], axis=1)\n",
    "# rename columns\n",
    "#test = test.rename(columns={'tweet_text': 'Tweet', 'label': 'label'})\n",
    "#new_tweet_data_clean = test.to_csv(source_folder+'/new_tweet_data_clean.csv', index=False)"
   ]
  },
  {
   "cell_type": "code",
   "execution_count": 4,
   "metadata": {},
   "outputs": [],
   "source": [
    "train['Tweet'] = train['Tweet'].str.lower()\n",
    "test['Tweet'] = test['Tweet'].str.lower()\n",
    "new_data_test['Tweet'] = new_data_test['Tweet'].str.lower()"
   ]
  },
  {
   "cell_type": "code",
   "execution_count": 5,
   "metadata": {},
   "outputs": [],
   "source": [
    "X_train = train['Tweet'].fillna(' ')\n",
    "y_train = train['label'].fillna(' ')\n",
    "X_test = test['Tweet'].fillna(' ')\n",
    "y_test = test['label'].fillna(' ')\n",
    "X_new = new_data_test['Tweet'].fillna(' ')\n",
    "y_new = new_data_test['label'].fillna(' ')"
   ]
  },
  {
   "cell_type": "code",
   "execution_count": 6,
   "metadata": {},
   "outputs": [],
   "source": [
    "pipeline = Pipeline([\n",
    "    ('vect', CountVectorizer(binary=True, analyzer='char', ngram_range=(1,5), min_df = 10, max_df = 0.95)),\n",
    "    ('tfidf', TfidfTransformer(sublinear_tf=True)),\n",
    "    ('clf', LogisticRegression(C=10, max_iter=1000))\n",
    "])"
   ]
  },
  {
   "cell_type": "code",
   "execution_count": 10,
   "metadata": {},
   "outputs": [
    {
     "data": {
      "text/plain": [
       "['../saved_models/LR_predictions.pkl']"
      ]
     },
     "execution_count": 10,
     "metadata": {},
     "output_type": "execute_result"
    }
   ],
   "source": [
    "# train the model\n",
    "model = pipeline.fit(X_train, y_train)\n",
    "\n",
    "# predict the test set\n",
    "y_pred = pipeline.predict(X_test)\n",
    "\n",
    "# save model and predictions\n",
    "joblib.dump(model, '../saved_models/LR_model.pkl')\n",
    "joblib.dump(y_pred, '../saved_models/LR_predictions.pkl')\n",
    "\n",
    "#load model and predictions\n",
    "model = joblib.load('../saved_models/LR_model.pkl')\n",
    "y_pred = joblib.load('../saved_models/LR_predictions.pkl')\n"
   ]
  },
  {
   "cell_type": "code",
   "execution_count": 9,
   "metadata": {},
   "outputs": [
    {
     "name": "stdout",
     "output_type": "stream",
     "text": [
      "AUC score:  0.8058879445314246\n",
      "Accuracy :  0.805607476635514\n"
     ]
    }
   ],
   "source": [
    "print(\"AUC score: \", roc_auc_score(y_test, y_pred))\n",
    "print(\"Accuracy : \", metrics.accuracy_score(y_test, y_pred))"
   ]
  },
  {
   "cell_type": "code",
   "execution_count": 10,
   "metadata": {},
   "outputs": [
    {
     "name": "stdout",
     "output_type": "stream",
     "text": [
      "Mean Squared Error:  0.19439252336448598\n",
      "Coefficient of determination: 0.22\n"
     ]
    }
   ],
   "source": [
    "print('Mean Squared Error: ', mean_squared_error(y_test, y_pred))\n",
    "print('Coefficient of determination: %.2f'\n",
    "      % r2_score(y_test, y_pred))"
   ]
  },
  {
   "cell_type": "code",
   "execution_count": 11,
   "metadata": {},
   "outputs": [
    {
     "name": "stdout",
     "output_type": "stream",
     "text": [
      "AUC score:  0.7697676232064878\n",
      "Accuracy :  0.8585807750377453\n"
     ]
    }
   ],
   "source": [
    "# predict the new data set\n",
    "y_pred_new = pipeline.predict(X_new)\n",
    "\n",
    "# save predictions\n",
    "joblib.dump(y_pred_new, '../saved_models/LR_predictions_new.pkl')\n",
    "\n",
    "print(\"AUC score: \", roc_auc_score(y_new, y_pred_new))\n",
    "print(\"Accuracy : \", metrics.accuracy_score(y_new, y_pred_new))"
   ]
  }
 ],
 "metadata": {
  "kernelspec": {
   "display_name": "Python 3",
   "language": "python",
   "name": "python3"
  },
  "language_info": {
   "codemirror_mode": {
    "name": "ipython",
    "version": 3
   },
   "file_extension": ".py",
   "mimetype": "text/x-python",
   "name": "python",
   "nbconvert_exporter": "python",
   "pygments_lexer": "ipython3",
   "version": "3.8.6rc1 (tags/v3.8.6rc1:08bd63d, Sep  7 2020, 23:10:23) [MSC v.1927 64 bit (AMD64)]"
  },
  "orig_nbformat": 4,
  "vscode": {
   "interpreter": {
    "hash": "d88ccd29394dc0180254789819ef486849afd2b6eb8a51ff06f9b9e2aed453e4"
   }
  }
 },
 "nbformat": 4,
 "nbformat_minor": 2
}
