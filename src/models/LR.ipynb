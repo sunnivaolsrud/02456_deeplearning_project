{
 "cells": [
  {
   "cell_type": "code",
   "execution_count": 1,
   "metadata": {},
   "outputs": [],
   "source": [
    "import pandas as pd\n",
    "import numpy as np\n",
    "import matplotlib.pyplot as plt\n",
    "import seaborn as sns\n",
    "from sklearn.feature_extraction.text import CountVectorizer\n",
    "from sklearn.linear_model import LogisticRegression\n",
    "from sklearn.feature_extraction.text import TfidfTransformer\n",
    "from sklearn.decomposition import TruncatedSVD\n",
    "from sklearn import metrics\n",
    "from sklearn.pipeline import Pipeline\n",
    "from scipy import stats\n",
    "from scipy.stats import pearsonr, spearmanr\n",
    "from sklearn.metrics import roc_auc_score, accuracy_score, roc_curve, mean_squared_error, r2_score\n",
    "from nltk.corpus import stopwords\n",
    "\n",
    "source_folder = '../data/twitter_data/'"
   ]
  },
  {
   "cell_type": "code",
   "execution_count": 2,
   "metadata": {},
   "outputs": [],
   "source": [
    "def clean_data(DataFrame):\n",
    "    stop_words = stopwords.words('english')\n",
    "    stop_words.remove('not')\n",
    "    stop_words.remove('no') \n",
    "    # remove stop words\n",
    "    DataFrame['tweet_text'] = DataFrame['tweet_text'].apply(lambda x: ' '.join([word for word in x.split() if word not in (stop_words)]))\n",
    "    # remove punctuation\n",
    "    DataFrame['tweet_text'] = DataFrame['tweet_text'].str.replace('[^\\w\\s]','')\n",
    "    # remove numbers\n",
    "    DataFrame['tweet_text'] = DataFrame['tweet_text'].str.replace('\\d+', '')\n",
    "    # remove http links\n",
    "    DataFrame['tweet_text'] = DataFrame['tweet_text'].str.replace('http\\S+|www.\\S+', '', case=False)\n",
    "    \n",
    "    return DataFrame"
   ]
  },
  {
   "cell_type": "code",
   "execution_count": 3,
   "metadata": {},
   "outputs": [
    {
     "ename": "KeyError",
     "evalue": "'tweet_text'",
     "output_type": "error",
     "traceback": [
      "\u001b[0;31m---------------------------------------------------------------------------\u001b[0m",
      "\u001b[0;31mKeyError\u001b[0m                                  Traceback (most recent call last)",
      "File \u001b[0;32m/opt/homebrew/Caskroom/miniforge/base/envs/uni_env/lib/python3.10/site-packages/pandas/core/indexes/base.py:3621\u001b[0m, in \u001b[0;36mIndex.get_loc\u001b[0;34m(self, key, method, tolerance)\u001b[0m\n\u001b[1;32m   3620\u001b[0m \u001b[39mtry\u001b[39;00m:\n\u001b[0;32m-> 3621\u001b[0m     \u001b[39mreturn\u001b[39;00m \u001b[39mself\u001b[39;49m\u001b[39m.\u001b[39;49m_engine\u001b[39m.\u001b[39;49mget_loc(casted_key)\n\u001b[1;32m   3622\u001b[0m \u001b[39mexcept\u001b[39;00m \u001b[39mKeyError\u001b[39;00m \u001b[39mas\u001b[39;00m err:\n",
      "File \u001b[0;32m/opt/homebrew/Caskroom/miniforge/base/envs/uni_env/lib/python3.10/site-packages/pandas/_libs/index.pyx:136\u001b[0m, in \u001b[0;36mpandas._libs.index.IndexEngine.get_loc\u001b[0;34m()\u001b[0m\n",
      "File \u001b[0;32m/opt/homebrew/Caskroom/miniforge/base/envs/uni_env/lib/python3.10/site-packages/pandas/_libs/index.pyx:163\u001b[0m, in \u001b[0;36mpandas._libs.index.IndexEngine.get_loc\u001b[0;34m()\u001b[0m\n",
      "File \u001b[0;32mpandas/_libs/hashtable_class_helper.pxi:5198\u001b[0m, in \u001b[0;36mpandas._libs.hashtable.PyObjectHashTable.get_item\u001b[0;34m()\u001b[0m\n",
      "File \u001b[0;32mpandas/_libs/hashtable_class_helper.pxi:5206\u001b[0m, in \u001b[0;36mpandas._libs.hashtable.PyObjectHashTable.get_item\u001b[0;34m()\u001b[0m\n",
      "\u001b[0;31mKeyError\u001b[0m: 'tweet_text'",
      "\nThe above exception was the direct cause of the following exception:\n",
      "\u001b[0;31mKeyError\u001b[0m                                  Traceback (most recent call last)",
      "\u001b[1;32m/Users/sunniva/University/02456_Deeplearning/02456_deeplearning_project/src/models/LR.ipynb Cell 3\u001b[0m in \u001b[0;36m<cell line: 3>\u001b[0;34m()\u001b[0m\n\u001b[1;32m      <a href='vscode-notebook-cell:/Users/sunniva/University/02456_Deeplearning/02456_deeplearning_project/src/models/LR.ipynb#W5sZmlsZQ%3D%3D?line=0'>1</a>\u001b[0m train \u001b[39m=\u001b[39m pd\u001b[39m.\u001b[39mread_csv(source_folder\u001b[39m+\u001b[39m\u001b[39m'\u001b[39m\u001b[39m/tweet_train.csv\u001b[39m\u001b[39m'\u001b[39m, sep\u001b[39m=\u001b[39m\u001b[39m'\u001b[39m\u001b[39m,\u001b[39m\u001b[39m'\u001b[39m)\n\u001b[1;32m      <a href='vscode-notebook-cell:/Users/sunniva/University/02456_Deeplearning/02456_deeplearning_project/src/models/LR.ipynb#W5sZmlsZQ%3D%3D?line=1'>2</a>\u001b[0m test \u001b[39m=\u001b[39m pd\u001b[39m.\u001b[39mread_csv(source_folder\u001b[39m+\u001b[39m\u001b[39m'\u001b[39m\u001b[39m/new_tweet_data_clean.csv\u001b[39m\u001b[39m'\u001b[39m, sep\u001b[39m=\u001b[39m\u001b[39m'\u001b[39m\u001b[39m,\u001b[39m\u001b[39m'\u001b[39m)\n\u001b[0;32m----> <a href='vscode-notebook-cell:/Users/sunniva/University/02456_Deeplearning/02456_deeplearning_project/src/models/LR.ipynb#W5sZmlsZQ%3D%3D?line=2'>3</a>\u001b[0m test \u001b[39m=\u001b[39m clean_data(test)\n\u001b[1;32m      <a href='vscode-notebook-cell:/Users/sunniva/University/02456_Deeplearning/02456_deeplearning_project/src/models/LR.ipynb#W5sZmlsZQ%3D%3D?line=3'>4</a>\u001b[0m \u001b[39m# remove id column\u001b[39;00m\n\u001b[1;32m      <a href='vscode-notebook-cell:/Users/sunniva/University/02456_Deeplearning/02456_deeplearning_project/src/models/LR.ipynb#W5sZmlsZQ%3D%3D?line=4'>5</a>\u001b[0m test \u001b[39m=\u001b[39m test\u001b[39m.\u001b[39mdrop([\u001b[39m'\u001b[39m\u001b[39mid\u001b[39m\u001b[39m'\u001b[39m], axis\u001b[39m=\u001b[39m\u001b[39m1\u001b[39m)\n",
      "\u001b[1;32m/Users/sunniva/University/02456_Deeplearning/02456_deeplearning_project/src/models/LR.ipynb Cell 3\u001b[0m in \u001b[0;36mclean_data\u001b[0;34m(DataFrame)\u001b[0m\n\u001b[1;32m      <a href='vscode-notebook-cell:/Users/sunniva/University/02456_Deeplearning/02456_deeplearning_project/src/models/LR.ipynb#W5sZmlsZQ%3D%3D?line=3'>4</a>\u001b[0m stop_words\u001b[39m.\u001b[39mremove(\u001b[39m'\u001b[39m\u001b[39mno\u001b[39m\u001b[39m'\u001b[39m) \n\u001b[1;32m      <a href='vscode-notebook-cell:/Users/sunniva/University/02456_Deeplearning/02456_deeplearning_project/src/models/LR.ipynb#W5sZmlsZQ%3D%3D?line=4'>5</a>\u001b[0m \u001b[39m# remove stop words\u001b[39;00m\n\u001b[0;32m----> <a href='vscode-notebook-cell:/Users/sunniva/University/02456_Deeplearning/02456_deeplearning_project/src/models/LR.ipynb#W5sZmlsZQ%3D%3D?line=5'>6</a>\u001b[0m DataFrame[\u001b[39m'\u001b[39m\u001b[39mtweet_text\u001b[39m\u001b[39m'\u001b[39m] \u001b[39m=\u001b[39m DataFrame[\u001b[39m'\u001b[39;49m\u001b[39mtweet_text\u001b[39;49m\u001b[39m'\u001b[39;49m]\u001b[39m.\u001b[39mapply(\u001b[39mlambda\u001b[39;00m x: \u001b[39m'\u001b[39m\u001b[39m \u001b[39m\u001b[39m'\u001b[39m\u001b[39m.\u001b[39mjoin([word \u001b[39mfor\u001b[39;00m word \u001b[39min\u001b[39;00m x\u001b[39m.\u001b[39msplit() \u001b[39mif\u001b[39;00m word \u001b[39mnot\u001b[39;00m \u001b[39min\u001b[39;00m (stop_words)]))\n\u001b[1;32m      <a href='vscode-notebook-cell:/Users/sunniva/University/02456_Deeplearning/02456_deeplearning_project/src/models/LR.ipynb#W5sZmlsZQ%3D%3D?line=6'>7</a>\u001b[0m \u001b[39m# remove punctuation\u001b[39;00m\n\u001b[1;32m      <a href='vscode-notebook-cell:/Users/sunniva/University/02456_Deeplearning/02456_deeplearning_project/src/models/LR.ipynb#W5sZmlsZQ%3D%3D?line=7'>8</a>\u001b[0m DataFrame[\u001b[39m'\u001b[39m\u001b[39mtweet_text\u001b[39m\u001b[39m'\u001b[39m] \u001b[39m=\u001b[39m DataFrame[\u001b[39m'\u001b[39m\u001b[39mtweet_text\u001b[39m\u001b[39m'\u001b[39m]\u001b[39m.\u001b[39mstr\u001b[39m.\u001b[39mreplace(\u001b[39m'\u001b[39m\u001b[39m[^\u001b[39m\u001b[39m\\\u001b[39m\u001b[39mw\u001b[39m\u001b[39m\\\u001b[39m\u001b[39ms]\u001b[39m\u001b[39m'\u001b[39m,\u001b[39m'\u001b[39m\u001b[39m'\u001b[39m)\n",
      "File \u001b[0;32m/opt/homebrew/Caskroom/miniforge/base/envs/uni_env/lib/python3.10/site-packages/pandas/core/frame.py:3505\u001b[0m, in \u001b[0;36mDataFrame.__getitem__\u001b[0;34m(self, key)\u001b[0m\n\u001b[1;32m   3503\u001b[0m \u001b[39mif\u001b[39;00m \u001b[39mself\u001b[39m\u001b[39m.\u001b[39mcolumns\u001b[39m.\u001b[39mnlevels \u001b[39m>\u001b[39m \u001b[39m1\u001b[39m:\n\u001b[1;32m   3504\u001b[0m     \u001b[39mreturn\u001b[39;00m \u001b[39mself\u001b[39m\u001b[39m.\u001b[39m_getitem_multilevel(key)\n\u001b[0;32m-> 3505\u001b[0m indexer \u001b[39m=\u001b[39m \u001b[39mself\u001b[39;49m\u001b[39m.\u001b[39;49mcolumns\u001b[39m.\u001b[39;49mget_loc(key)\n\u001b[1;32m   3506\u001b[0m \u001b[39mif\u001b[39;00m is_integer(indexer):\n\u001b[1;32m   3507\u001b[0m     indexer \u001b[39m=\u001b[39m [indexer]\n",
      "File \u001b[0;32m/opt/homebrew/Caskroom/miniforge/base/envs/uni_env/lib/python3.10/site-packages/pandas/core/indexes/base.py:3623\u001b[0m, in \u001b[0;36mIndex.get_loc\u001b[0;34m(self, key, method, tolerance)\u001b[0m\n\u001b[1;32m   3621\u001b[0m     \u001b[39mreturn\u001b[39;00m \u001b[39mself\u001b[39m\u001b[39m.\u001b[39m_engine\u001b[39m.\u001b[39mget_loc(casted_key)\n\u001b[1;32m   3622\u001b[0m \u001b[39mexcept\u001b[39;00m \u001b[39mKeyError\u001b[39;00m \u001b[39mas\u001b[39;00m err:\n\u001b[0;32m-> 3623\u001b[0m     \u001b[39mraise\u001b[39;00m \u001b[39mKeyError\u001b[39;00m(key) \u001b[39mfrom\u001b[39;00m \u001b[39merr\u001b[39;00m\n\u001b[1;32m   3624\u001b[0m \u001b[39mexcept\u001b[39;00m \u001b[39mTypeError\u001b[39;00m:\n\u001b[1;32m   3625\u001b[0m     \u001b[39m# If we have a listlike key, _check_indexing_error will raise\u001b[39;00m\n\u001b[1;32m   3626\u001b[0m     \u001b[39m#  InvalidIndexError. Otherwise we fall through and re-raise\u001b[39;00m\n\u001b[1;32m   3627\u001b[0m     \u001b[39m#  the TypeError.\u001b[39;00m\n\u001b[1;32m   3628\u001b[0m     \u001b[39mself\u001b[39m\u001b[39m.\u001b[39m_check_indexing_error(key)\n",
      "\u001b[0;31mKeyError\u001b[0m: 'tweet_text'"
     ]
    }
   ],
   "source": [
    "train = pd.read_csv(source_folder+'/tweet_train.csv', sep=',')\n",
    "test = pd.read_csv(source_folder+'/new_tweet_data_clean.csv', sep=',')\n",
    "test = clean_data(test)\n",
    "# remove id column\n",
    "test = test.drop(['id'], axis=1)\n",
    "# rename columns\n",
    "test = test.rename(columns={'tweet_text': 'Tweet', 'label': 'label'})\n",
    "new_tweet_data_clean = test.to_csv(source_folder+'/new_tweet_data_clean.csv', index=False)"
   ]
  },
  {
   "cell_type": "code",
   "execution_count": null,
   "metadata": {},
   "outputs": [],
   "source": [
    "train['Tweet'] = train['Tweet'].str.lower()\n",
    "test['Tweet'] = test['Tweet'].str.lower()"
   ]
  },
  {
   "cell_type": "code",
   "execution_count": 7,
   "metadata": {},
   "outputs": [],
   "source": [
    "X_train = train['Tweet'].fillna(' ')\n",
    "y_train = train['label'].fillna(' ')\n",
    "X_test = test['Tweet'].fillna(' ')\n",
    "y_test = test['label'].fillna(' ')"
   ]
  },
  {
   "cell_type": "code",
   "execution_count": 8,
   "metadata": {},
   "outputs": [],
   "source": [
    "pipeline = Pipeline([\n",
    "    ('vect', CountVectorizer(binary=True, analyzer='char', ngram_range=(1,5), min_df = 10, max_df = 0.95)),\n",
    "    ('tfidf', TfidfTransformer(sublinear_tf=True)),\n",
    "    ('clf', LogisticRegression(C=10, max_iter=1000))\n",
    "])"
   ]
  },
  {
   "cell_type": "code",
   "execution_count": 9,
   "metadata": {},
   "outputs": [],
   "source": [
    "# train the model\n",
    "pipeline.fit(X_train, y_train)\n",
    "\n",
    "# predict the test set\n",
    "y_pred = pipeline.predict(X_test)"
   ]
  },
  {
   "cell_type": "code",
   "execution_count": 10,
   "metadata": {},
   "outputs": [
    {
     "name": "stdout",
     "output_type": "stream",
     "text": [
      "AUC score:  0.7694557080474111\n",
      "Accuracy :  0.8580775037745345\n"
     ]
    }
   ],
   "source": [
    "print(\"AUC score: \", roc_auc_score(y_test, y_pred))\n",
    "print(\"Accuracy : \", metrics.accuracy_score(y_test, y_pred))"
   ]
  },
  {
   "cell_type": "code",
   "execution_count": 11,
   "metadata": {},
   "outputs": [
    {
     "name": "stdout",
     "output_type": "stream",
     "text": [
      "Mean Squared Error:  0.14192249622546552\n",
      "Coefficient of determination: 0.09\n"
     ]
    }
   ],
   "source": [
    "print('Mean Squared Error: ', mean_squared_error(y_test, y_pred))\n",
    "print('Coefficient of determination: %.2f'\n",
    "      % r2_score(y_test, y_pred))"
   ]
  },
  {
   "cell_type": "code",
   "execution_count": 12,
   "metadata": {},
   "outputs": [
    {
     "name": "stdout",
     "output_type": "stream",
     "text": [
      "Feature:  \n",
      " Score:  1.6156513332312483\n",
      "Feature:  \n",
      "# Score:  -0.35800857065284025\n",
      "Feature:  \n",
      "#a Score:  0.07856877795254533\n",
      "Feature:  \n",
      "#b Score:  0.10305695162395977\n",
      "Feature:  \n",
      "#h Score:  -0.5020825910255783\n",
      "Feature:  \n",
      "#ho Score:  -0.10763976214670289\n",
      "Feature:  \n",
      "#s Score:  0.03297611762009541\n",
      "Feature:  \n",
      "- Score:  -0.5703803666486397\n",
      "Feature:  \n",
      "2 Score:  -0.14080692739787892\n",
      "Feature:  \n",
      "@ Score:  1.0915343253561243\n"
     ]
    }
   ],
   "source": [
    "feature_importance = pipeline['clf'].coef_[0][:10]\n",
    "for i,v in enumerate(feature_importance):\n",
    "    print('Feature: ', list(pipeline['vect'].vocabulary_.keys())[list(pipeline['vect'].vocabulary_.values()).index(i)], 'Score: ', v)"
   ]
  },
  {
   "cell_type": "code",
   "execution_count": 13,
   "metadata": {},
   "outputs": [],
   "source": [
    "feature_importance = pipeline['clf'].coef_[0]\n",
    "sorted_idx = np.argsort(feature_importance)"
   ]
  },
  {
   "cell_type": "code",
   "execution_count": 14,
   "metadata": {},
   "outputs": [
    {
     "name": "stdout",
     "output_type": "stream",
     "text": [
      "['ass', 'ss', ' ass', 'ass ', ' as', 'lut', ' ass ', 'slut', 'slu', 'ss ']\n"
     ]
    }
   ],
   "source": [
    "top_10 = [list(pipeline['vect'].vocabulary_.keys())[list(pipeline['vect'].vocabulary_.values()).index(w)] for w in sorted_idx[range(-1,-11, -1)]]\n",
    "print(top_10)"
   ]
  },
  {
   "cell_type": "code",
   "execution_count": 15,
   "metadata": {},
   "outputs": [
    {
     "data": {
      "image/png": "[encoded data removed]",
      "text/plain": [
       "<Figure size 1000x500 with 1 Axes>"
      ]
     },
     "metadata": {},
     "output_type": "display_data"
    }
   ],
   "source": [
    "# word vector plot for top 10 words\n",
    "plt.figure(figsize=(10,5))\n",
    "plt.barh(top_10, feature_importance[sorted_idx[range(-1,-11, -1)]], color='g', align='center')\n",
    "plt.title('Top 10 words for LR model')\n",
    "plt.xlabel('Feature importance')\n",
    "plt.ylabel('Words')\n",
    "# save\n",
    "plt.savefig('../figures/LR_top10_words.png')\n",
    "plt.show()"
   ]
  },
  {
   "cell_type": "code",
   "execution_count": 16,
   "metadata": {},
   "outputs": [
    {
     "data": {
      "text/plain": [
       "0.857"
      ]
     },
     "execution_count": 16,
     "metadata": {},
     "output_type": "execute_result"
    }
   ],
   "source": [
    "sub_f = train.loc[train.Tweet.str.contains('ass')]\n",
    "round(sub_f.label.mean(),3)"
   ]
  },
  {
   "cell_type": "code",
   "execution_count": 17,
   "metadata": {},
   "outputs": [
    {
     "name": "stdout",
     "output_type": "stream",
     "text": [
      "['os', 'as ', 'iss', 'rey', 'ay', 'r c', ' as ', 'in a', 'lar', 't on']\n"
     ]
    }
   ],
   "source": [
    "top_10_non = [list(pipeline['vect'].vocabulary_.keys())[list(pipeline['vect'].vocabulary_.values()).index(w)] for w in sorted_idx[:10]]\n",
    "print(top_10_non)"
   ]
  },
  {
   "cell_type": "code",
   "execution_count": 19,
   "metadata": {},
   "outputs": [
    {
     "data": {
      "image/png": "[encoded data removed]",
      "text/plain": [
       "<Figure size 1000x500 with 1 Axes>"
      ]
     },
     "metadata": {},
     "output_type": "display_data"
    }
   ],
   "source": [
    "# word vector plot for top 10 non words\n",
    "plt.figure(figsize=(10,5))\n",
    "plt.barh(top_10_non, feature_importance[sorted_idx[range(10)]], color='r')\n",
    "# get y-axis labels\n",
    "plt.title('Top 10 non words for LR model')\n",
    "plt.xlabel('Feature importance')\n",
    "plt.ylabel('Words')\n",
    "# save\n",
    "plt.savefig('../figures/LR_top10_non_words.png')\n",
    "plt.show()"
   ]
  },
  {
   "cell_type": "code",
   "execution_count": null,
   "metadata": {},
   "outputs": [],
   "source": []
  }
 ],
 "metadata": {
  "kernelspec": {
   "display_name": "Python 3.10.6 ('uni_env')",
   "language": "python",
   "name": "python3"
  },
  "language_info": {
   "codemirror_mode": {
    "name": "ipython",
    "version": 3
   },
   "file_extension": ".py",
   "mimetype": "text/x-python",
   "name": "python",
   "nbconvert_exporter": "python",
   "pygments_lexer": "ipython3",
   "version": "3.10.6"
  },
  "orig_nbformat": 4,
  "vscode": {
   "interpreter": {
    "hash": "f7634c8171feac4458a13f394e6cfdd814bf66fc1aec0214c1deb01e1bca547b"
   }
  }
 },
 "nbformat": 4,
 "nbformat_minor": 2
}
